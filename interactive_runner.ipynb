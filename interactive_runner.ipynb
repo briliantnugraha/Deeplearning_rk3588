{
 "cells": [
  {
   "cell_type": "code",
   "execution_count": null,
   "id": "bac6b431-b7e6-4f62-b38f-7cca4e69f994",
   "metadata": {},
   "outputs": [],
   "source": [
    "from yolov5.yolov5_runner import YOLOV5Runner\n",
    "from yolov8.yolov8_runner import YOLOV8Runner\n",
    "from yolov10.yolov10_runner import YOLOV10Runner\n",
    "from base_utils import get_argument, draw_result\n",
    "from IPython.display import clear_output, Image, display\n",
    "from io import BytesIO\n",
    "import PIL.Image\n",
    "import cv2\n",
    "import numpy as np\n",
    "import os"
   ]
  },
  {
   "cell_type": "code",
   "execution_count": null,
   "id": "a077fb89-b967-4e36-9586-19fc57ac6b9b",
   "metadata": {},
   "outputs": [],
   "source": [
    "def showarray(a, fmt='jpeg'):\n",
    "    f = BytesIO()\n",
    "    PIL.Image.fromarray(a).save(f, fmt)\n",
    "    display(Image(data=f.getvalue()))"
   ]
  },
  {
   "cell_type": "code",
   "execution_count": null,
   "id": "1606a1b3-2d1d-4390-867e-56ced0259c02",
   "metadata": {},
   "outputs": [],
   "source": [
    "# !ls models"
   ]
  },
  {
   "cell_type": "code",
   "execution_count": null,
   "id": "0622e5c7-ee30-4714-9baf-bf04cced2745",
   "metadata": {},
   "outputs": [],
   "source": [
    "args = get_argument()\n",
    "args.model_type = 'yolov10'\n",
    "args.score_thresh = 0.1\n",
    "args.modelpath = 'models/yolov10n_mod2.rknn'\n",
    "print('os exist: ', os.path.exists(args.modelpath), args.modelpath)\n",
    "print('args2: ', args)"
   ]
  },
  {
   "cell_type": "code",
   "execution_count": null,
   "id": "8f1b6d76-027e-4391-a22d-f9016c8b5166",
   "metadata": {},
   "outputs": [],
   "source": [
    "if args.model_type == 'yolov5':\n",
    "    yrunner = YOLOV5Runner(args.modelpath, core=args.core, host_name=args.host, score_thresh=args.score_thresh)\n",
    "elif args.model_type == 'yolov8':\n",
    "    yrunner = YOLOV8Runner(args.modelpath, core=args.core, host_name=args.host, score_thresh=args.score_thresh)\n",
    "elif args.model_type == 'yolov10':\n",
    "    yrunner = YOLOV10Runner(args.modelpath, core=args.core, host_name=args.host, score_thresh=args.score_thresh)\n",
    "else:\n",
    "    raise NotImplementedError"
   ]
  },
  {
   "cell_type": "code",
   "execution_count": null,
   "id": "4373a916-3d64-48a2-b13f-0162e1191a7d",
   "metadata": {},
   "outputs": [],
   "source": [
    "# define a video capture object \n",
    "vid = cv2.VideoCapture(\"/dev/video0\", cv2.CAP_V4L)\n",
    "while(True):\n",
    "    ret, frame = vid.read() \n",
    "    # frame = cv2.imread('Images/im1.jpg')\n",
    "    print('frame: ', frame.shape)\n",
    "    boxes, scores, ids = yrunner(frame)[0]\n",
    "    draw_result(frame, boxes, scores, ids, show_detail=False)\n",
    "    clear_output(wait=True)\n",
    "    showarray(frame[..., ::-1])\n",
    "      \n",
    "    # the 'q' button is set as the \n",
    "    # quitting button you may use any \n",
    "    # desired button of your choice \n",
    "    if cv2.waitKey(1) & 0xFF == ord('q'): \n",
    "        break\n",
    "  \n",
    "# After the loop release the cap object \n",
    "vid.release() \n",
    "# Destroy all the windows \n",
    "cv2.destroyAllWindows() "
   ]
  },
  {
   "cell_type": "code",
   "execution_count": null,
   "id": "5a3ccebf-6d5f-4ca3-b188-03ac30a65979",
   "metadata": {},
   "outputs": [],
   "source": []
  }
 ],
 "metadata": {
  "kernelspec": {
   "display_name": "Python 3 (ipykernel)",
   "language": "python",
   "name": "python3"
  },
  "language_info": {
   "codemirror_mode": {
    "name": "ipython",
    "version": 3
   },
   "file_extension": ".py",
   "mimetype": "text/x-python",
   "name": "python",
   "nbconvert_exporter": "python",
   "pygments_lexer": "ipython3",
   "version": "3.10.12"
  }
 },
 "nbformat": 4,
 "nbformat_minor": 5
}
